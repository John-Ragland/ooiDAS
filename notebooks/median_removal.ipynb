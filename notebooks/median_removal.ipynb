{
 "cells": [
  {
   "cell_type": "markdown",
   "id": "3c6dae0a-951e-49cb-936f-d0eae4ae6517",
   "metadata": {},
   "source": [
    "# Median Removal"
   ]
  },
  {
   "cell_type": "code",
   "execution_count": null,
   "id": "2163e01f-b908-431e-9d8c-8e766d700d56",
   "metadata": {},
   "outputs": [],
   "source": [
    "import xarray as xr\n",
    "import ODLintake\n",
    "from dask.distributed import Client\n",
    "import hvplot.xarray"
   ]
  },
  {
   "cell_type": "code",
   "execution_count": null,
   "id": "6ee2d4df-f333-4516-81b0-da7f1ce78003",
   "metadata": {},
   "outputs": [],
   "source": [
    "client = Client()\n",
    "client"
   ]
  },
  {
   "cell_type": "markdown",
   "id": "92c0ccd1-7978-468b-b1ee-dd516d6b8fbd",
   "metadata": {},
   "source": [
    "## Hack out a mean version real quick"
   ]
  },
  {
   "cell_type": "code",
   "execution_count": null,
   "id": "3e04108a-8d5c-4132-be4c-f399125d569a",
   "metadata": {},
   "outputs": [],
   "source": [
    "ds = ODLintake.open_ooi_DAS_SouthTx()"
   ]
  },
  {
   "cell_type": "code",
   "execution_count": null,
   "id": "e5a036d9-3dee-4405-8840-cb30dfb4c84b",
   "metadata": {},
   "outputs": [],
   "source": [
    "ds_mean = ds.mean('distance').compute()"
   ]
  },
  {
   "cell_type": "markdown",
   "id": "f5b0cf50-f026-4512-b82d-79ce1e27fc46",
   "metadata": {},
   "source": [
    "- I think this will be better when I have kerchunk working\n",
    "- and I also just need to use the big computer and write some scripts to do this"
   ]
  },
  {
   "cell_type": "code",
   "execution_count": null,
   "id": "114bc342-92db-47a9-8159-f1ea200e2a99",
   "metadata": {},
   "outputs": [],
   "source": []
  },
  {
   "cell_type": "code",
   "execution_count": null,
   "id": "06cc8328-d2b7-4156-96dd-185b0c1d0b3b",
   "metadata": {},
   "outputs": [],
   "source": []
  }
 ],
 "metadata": {
  "kernelspec": {
   "display_name": "Python 3 (ipykernel)",
   "language": "python",
   "name": "python3"
  },
  "language_info": {
   "codemirror_mode": {
    "name": "ipython",
    "version": 3
   },
   "file_extension": ".py",
   "mimetype": "text/x-python",
   "name": "python",
   "nbconvert_exporter": "python",
   "pygments_lexer": "ipython3",
   "version": "3.10.4"
  }
 },
 "nbformat": 4,
 "nbformat_minor": 5
}
